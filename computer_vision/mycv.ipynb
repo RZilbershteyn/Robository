{
 "cells": [
  {
   "cell_type": "code",
   "execution_count": 1,
   "metadata": {},
   "outputs": [],
   "source": [
    "import cv2 as cv\n",
    "import numpy as np"
   ]
  },
  {
   "cell_type": "code",
   "execution_count": 2,
   "metadata": {},
   "outputs": [],
   "source": [
    "im = cv.imread('palette.jfif')"
   ]
  },
  {
   "cell_type": "code",
   "execution_count": 8,
   "metadata": {},
   "outputs": [
    {
     "data": {
      "text/plain": [
       "(723, 760, 3)"
      ]
     },
     "execution_count": 8,
     "metadata": {},
     "output_type": "execute_result"
    }
   ],
   "source": [
    "# im.shape"
   ]
  },
  {
   "cell_type": "code",
   "execution_count": 10,
   "metadata": {},
   "outputs": [
    {
     "data": {
      "text/plain": [
       "115"
      ]
     },
     "execution_count": 10,
     "metadata": {},
     "output_type": "execute_result"
    }
   ],
   "source": [
    "# cv.imshow('test', im)\n",
    "# cv.waitKey(0)"
   ]
  },
  {
   "cell_type": "code",
   "execution_count": 4,
   "metadata": {},
   "outputs": [],
   "source": [
    "img = cv.imread('naturemort.jpg')\n",
    "\n",
    "img1 = cv.cvtColor(img, cv.COLOR_BGR2GRAY)\n",
    "img1 = cv.medianBlur(img1, 13)\n",
    "# cv.imshow(\"Blur\",img1)\n",
    "# cv.waitKey(0)\n",
    "# cimg = cv.cvtColor(img,cv.COLOR_GRAY2BGR)\n",
    "\n",
    "circles=cv.HoughCircles(img1,cv.HOUGH_GRADIENT,1, 40, np.array([]), 80, 20, 20, 50)\n",
    "\n",
    "circles = np.uint16(np.around(circles))\n",
    "for i in circles[0,:]:\n",
    "    cv.circle(img,(i[0],i[1]),i[2],(0,255,0),2)\n",
    "    \n",
    "font = cv.FONT_HERSHEY_SIMPLEX\n",
    "cv.putText(img, str(circles.shape[1]) + ' lemons detected', (10,50), font, 0.8, (255,255,255), 2, cv.LINE_AA)\n",
    "cv.imshow('detected lemons',img)\n",
    "cv.waitKey(0)\n",
    "cv.destroyAllWindows()"
   ]
  }
 ],
 "metadata": {
  "kernelspec": {
   "display_name": "Python 3",
   "language": "python",
   "name": "python3"
  },
  "language_info": {
   "codemirror_mode": {
    "name": "ipython",
    "version": 3
   },
   "file_extension": ".py",
   "mimetype": "text/x-python",
   "name": "python",
   "nbconvert_exporter": "python",
   "pygments_lexer": "ipython3",
   "version": "3.8.10"
  }
 },
 "nbformat": 4,
 "nbformat_minor": 2
}
