{
 "cells": [
  {
   "cell_type": "code",
   "execution_count": 4,
   "metadata": {},
   "outputs": [
    {
     "data": {
      "text/plain": [
       "[0, 0, 0, 0, 0]"
      ]
     },
     "execution_count": 4,
     "metadata": {},
     "output_type": "execute_result"
    }
   ],
   "source": [
    "a = [0] * 5\n",
    "a"
   ]
  },
  {
   "cell_type": "code",
   "execution_count": 5,
   "metadata": {},
   "outputs": [
    {
     "data": {
      "text/plain": [
       "[42, 0, 0, 0, 0]"
      ]
     },
     "execution_count": 5,
     "metadata": {},
     "output_type": "execute_result"
    }
   ],
   "source": [
    "a[0] = 42\n",
    "a"
   ]
  },
  {
   "cell_type": "code",
   "execution_count": 9,
   "metadata": {},
   "outputs": [
    {
     "data": {
      "text/plain": [
       "[True, False, False, False, False]"
      ]
     },
     "execution_count": 9,
     "metadata": {},
     "output_type": "execute_result"
    }
   ],
   "source": [
    "mask = [True, False, False, False, False]\n",
    "mask"
   ]
  },
  {
   "cell_type": "code",
   "execution_count": 10,
   "metadata": {},
   "outputs": [
    {
     "name": "stdout",
     "output_type": "stream",
     "text": [
      "[False]\n"
     ]
    }
   ],
   "source": [
    "print(list(set(a) & set(mask)))"
   ]
  },
  {
   "cell_type": "code",
   "execution_count": 11,
   "metadata": {},
   "outputs": [
    {
     "data": {
      "text/plain": [
       "masked_array(data=[0, 1, --, 3, --, 5, 6, --, --, 9, --],\n",
       "             mask=[False, False,  True, False,  True, False, False,  True,\n",
       "                    True, False,  True],\n",
       "       fill_value=999999)"
      ]
     },
     "execution_count": 11,
     "metadata": {},
     "output_type": "execute_result"
    }
   ],
   "source": [
    "import numpy as np\n",
    "import numpy.ma as ma\n",
    "arr = np.array([x for x in range(11)])\n",
    "masked = ma.masked_array(arr, mask=[0,0,1,0,1,0,0,1,1,0,1])\n",
    "masked\n"
   ]
  },
  {
   "cell_type": "code",
   "execution_count": 24,
   "metadata": {},
   "outputs": [
    {
     "data": {
      "text/plain": [
       "[1, 3, 6, 9]"
      ]
     },
     "execution_count": 24,
     "metadata": {},
     "output_type": "execute_result"
    }
   ],
   "source": [
    "data = np.array([1,3,4,6,7,9,10])\n",
    "result = list(set(data) & set(masked[~masked.mask]))\n",
    "result"
   ]
  },
  {
   "cell_type": "code",
   "execution_count": 18,
   "metadata": {},
   "outputs": [
    {
     "data": {
      "text/plain": [
       "array([False, False,  True, False,  True, False, False,  True,  True,\n",
       "       False,  True])"
      ]
     },
     "execution_count": 18,
     "metadata": {},
     "output_type": "execute_result"
    }
   ],
   "source": [
    "masked."
   ]
  },
  {
   "cell_type": "code",
   "execution_count": 21,
   "metadata": {},
   "outputs": [
    {
     "data": {
      "text/plain": [
       "masked_array(data=[0, 1, 3, 5, 6, 9],\n",
       "             mask=[False, False, False, False, False, False],\n",
       "       fill_value=999999)"
      ]
     },
     "execution_count": 21,
     "metadata": {},
     "output_type": "execute_result"
    }
   ],
   "source": [
    "masked[~masked.mask]"
   ]
  },
  {
   "cell_type": "code",
   "execution_count": 25,
   "metadata": {},
   "outputs": [
    {
     "data": {
      "text/plain": [
       "[42, 0, 0, 0, 0]"
      ]
     },
     "execution_count": 25,
     "metadata": {},
     "output_type": "execute_result"
    }
   ],
   "source": [
    "a"
   ]
  },
  {
   "cell_type": "code",
   "execution_count": 37,
   "metadata": {},
   "outputs": [
    {
     "name": "stdout",
     "output_type": "stream",
     "text": [
      "19\n"
     ]
    }
   ],
   "source": [
    "n, b = [int(i) for i in input().split()]\n",
    "sequence = [int(i) for i in input().split()]\n",
    "\n",
    "def check(a, bias):\n",
    "    if a == []:\n",
    "        return False\n",
    "    if list(sorted(a)) == a:\n",
    "        if all([a[i + 1] <= a[i] + bias for i in range(len(a) - 1)]):\n",
    "            return True\n",
    "    \n",
    "    return False\n",
    "\n",
    "def nextmask(m):\n",
    "    i = 0\n",
    "    while m[i] != 0:\n",
    "        m[i] = 0\n",
    "        i += 1\n",
    "        \n",
    "        if i == len(m):\n",
    "            return -1\n",
    "    \n",
    "    m[i] = 1\n",
    "    \n",
    "    return m\n",
    "\n",
    "mask = [0] * n\n",
    "res = 0\n",
    "\n",
    "while mask != -1:\n",
    "    tmpsequence = sequence.copy()\n",
    "    k = 0\n",
    "    for i in range(n):\n",
    "        if mask[i]:\n",
    "            del tmpsequence[i - k]\n",
    "            k += 1\n",
    "    \n",
    "    if check(tmpsequence, b):\n",
    "        res = max(res, len(tmpsequence))\n",
    "    \n",
    "    mask = nextmask(mask)\n",
    "\n",
    "print(res)"
   ]
  }
 ],
 "metadata": {
  "kernelspec": {
   "display_name": "Python 3",
   "language": "python",
   "name": "python3"
  },
  "language_info": {
   "codemirror_mode": {
    "name": "ipython",
    "version": 3
   },
   "file_extension": ".py",
   "mimetype": "text/x-python",
   "name": "python",
   "nbconvert_exporter": "python",
   "pygments_lexer": "ipython3",
   "version": "3.8.10"
  }
 },
 "nbformat": 4,
 "nbformat_minor": 2
}
